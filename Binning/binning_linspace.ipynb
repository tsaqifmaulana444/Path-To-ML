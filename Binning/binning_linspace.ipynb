{
 "cells": [
  {
   "attachments": {},
   "cell_type": "markdown",
   "metadata": {},
   "source": [
    "### Binning dengan linspace"
   ]
  },
  {
   "cell_type": "code",
   "execution_count": 1,
   "metadata": {},
   "outputs": [],
   "source": [
    "import pandas as pd\n",
    "import numpy as np\n",
    "from sklearn.pipeline import Pipeline"
   ]
  },
  {
   "cell_type": "code",
   "execution_count": 2,
   "metadata": {},
   "outputs": [
    {
     "data": {
      "text/html": [
       "<div>\n",
       "<style scoped>\n",
       "    .dataframe tbody tr th:only-of-type {\n",
       "        vertical-align: middle;\n",
       "    }\n",
       "\n",
       "    .dataframe tbody tr th {\n",
       "        vertical-align: top;\n",
       "    }\n",
       "\n",
       "    .dataframe thead th {\n",
       "        text-align: right;\n",
       "    }\n",
       "</style>\n",
       "<table border=\"1\" class=\"dataframe\">\n",
       "  <thead>\n",
       "    <tr style=\"text-align: right;\">\n",
       "      <th></th>\n",
       "      <th>Nama</th>\n",
       "      <th>Status Rumah</th>\n",
       "      <th>Gaji Orang Tua</th>\n",
       "      <th>Keterangan</th>\n",
       "    </tr>\n",
       "  </thead>\n",
       "  <tbody>\n",
       "    <tr>\n",
       "      <th>0</th>\n",
       "      <td>aldi taher</td>\n",
       "      <td>Kontrak</td>\n",
       "      <td>2100000</td>\n",
       "      <td>NaN</td>\n",
       "    </tr>\n",
       "    <tr>\n",
       "      <th>1</th>\n",
       "      <td>kekeyi</td>\n",
       "      <td>Milik</td>\n",
       "      <td>4000000</td>\n",
       "      <td>NaN</td>\n",
       "    </tr>\n",
       "    <tr>\n",
       "      <th>2</th>\n",
       "      <td>rangga sasana</td>\n",
       "      <td>Kontrak</td>\n",
       "      <td>1400000</td>\n",
       "      <td>NaN</td>\n",
       "    </tr>\n",
       "    <tr>\n",
       "      <th>3</th>\n",
       "      <td>vicky prasetyo</td>\n",
       "      <td>Kontrak</td>\n",
       "      <td>700000</td>\n",
       "      <td>NaN</td>\n",
       "    </tr>\n",
       "    <tr>\n",
       "      <th>4</th>\n",
       "      <td>Zuko</td>\n",
       "      <td>Milik</td>\n",
       "      <td>650000</td>\n",
       "      <td>NaN</td>\n",
       "    </tr>\n",
       "    <tr>\n",
       "      <th>5</th>\n",
       "      <td>dyrga</td>\n",
       "      <td>Kontrak</td>\n",
       "      <td>450000</td>\n",
       "      <td>NaN</td>\n",
       "    </tr>\n",
       "  </tbody>\n",
       "</table>\n",
       "</div>"
      ],
      "text/plain": [
       "             Nama Status Rumah  Gaji Orang Tua  Keterangan\n",
       "0      aldi taher      Kontrak         2100000         NaN\n",
       "1          kekeyi        Milik         4000000         NaN\n",
       "2   rangga sasana      Kontrak         1400000         NaN\n",
       "3  vicky prasetyo      Kontrak          700000         NaN\n",
       "4            Zuko        Milik          650000         NaN\n",
       "5           dyrga      Kontrak          450000         NaN"
      ]
     },
     "execution_count": 2,
     "metadata": {},
     "output_type": "execute_result"
    }
   ],
   "source": [
    "df = pd.read_csv('datasetgaji.csv')\n",
    "df.head(6)"
   ]
  },
  {
   "cell_type": "code",
   "execution_count": 3,
   "metadata": {},
   "outputs": [
    {
     "data": {
      "text/plain": [
       "array([ 450000., 2225000., 4000000.])"
      ]
     },
     "execution_count": 3,
     "metadata": {},
     "output_type": "execute_result"
    }
   ],
   "source": [
    "bins = np.linspace(min(df['Gaji Orang Tua']), max(df['Gaji Orang Tua']),3)\n",
    "bins\n",
    "# mengatur pengelompokan data secara otomatis"
   ]
  },
  {
   "cell_type": "code",
   "execution_count": 4,
   "metadata": {},
   "outputs": [],
   "source": [
    "kategori = ['Kecil','Besar']"
   ]
  },
  {
   "cell_type": "code",
   "execution_count": 5,
   "metadata": {},
   "outputs": [
    {
     "data": {
      "text/html": [
       "<div>\n",
       "<style scoped>\n",
       "    .dataframe tbody tr th:only-of-type {\n",
       "        vertical-align: middle;\n",
       "    }\n",
       "\n",
       "    .dataframe tbody tr th {\n",
       "        vertical-align: top;\n",
       "    }\n",
       "\n",
       "    .dataframe thead th {\n",
       "        text-align: right;\n",
       "    }\n",
       "</style>\n",
       "<table border=\"1\" class=\"dataframe\">\n",
       "  <thead>\n",
       "    <tr style=\"text-align: right;\">\n",
       "      <th></th>\n",
       "      <th>Nama</th>\n",
       "      <th>Status Rumah</th>\n",
       "      <th>Gaji Orang Tua</th>\n",
       "      <th>Keterangan</th>\n",
       "      <th>gaji_binned</th>\n",
       "    </tr>\n",
       "  </thead>\n",
       "  <tbody>\n",
       "    <tr>\n",
       "      <th>0</th>\n",
       "      <td>aldi taher</td>\n",
       "      <td>Kontrak</td>\n",
       "      <td>2100000</td>\n",
       "      <td>NaN</td>\n",
       "      <td>Kecil</td>\n",
       "    </tr>\n",
       "    <tr>\n",
       "      <th>1</th>\n",
       "      <td>kekeyi</td>\n",
       "      <td>Milik</td>\n",
       "      <td>4000000</td>\n",
       "      <td>NaN</td>\n",
       "      <td>Besar</td>\n",
       "    </tr>\n",
       "    <tr>\n",
       "      <th>2</th>\n",
       "      <td>rangga sasana</td>\n",
       "      <td>Kontrak</td>\n",
       "      <td>1400000</td>\n",
       "      <td>NaN</td>\n",
       "      <td>Kecil</td>\n",
       "    </tr>\n",
       "    <tr>\n",
       "      <th>3</th>\n",
       "      <td>vicky prasetyo</td>\n",
       "      <td>Kontrak</td>\n",
       "      <td>700000</td>\n",
       "      <td>NaN</td>\n",
       "      <td>Kecil</td>\n",
       "    </tr>\n",
       "    <tr>\n",
       "      <th>4</th>\n",
       "      <td>Zuko</td>\n",
       "      <td>Milik</td>\n",
       "      <td>650000</td>\n",
       "      <td>NaN</td>\n",
       "      <td>Kecil</td>\n",
       "    </tr>\n",
       "    <tr>\n",
       "      <th>5</th>\n",
       "      <td>dyrga</td>\n",
       "      <td>Kontrak</td>\n",
       "      <td>450000</td>\n",
       "      <td>NaN</td>\n",
       "      <td>Kecil</td>\n",
       "    </tr>\n",
       "  </tbody>\n",
       "</table>\n",
       "</div>"
      ],
      "text/plain": [
       "             Nama Status Rumah  Gaji Orang Tua  Keterangan gaji_binned\n",
       "0      aldi taher      Kontrak         2100000         NaN       Kecil\n",
       "1          kekeyi        Milik         4000000         NaN       Besar\n",
       "2   rangga sasana      Kontrak         1400000         NaN       Kecil\n",
       "3  vicky prasetyo      Kontrak          700000         NaN       Kecil\n",
       "4            Zuko        Milik          650000         NaN       Kecil\n",
       "5           dyrga      Kontrak          450000         NaN       Kecil"
      ]
     },
     "execution_count": 5,
     "metadata": {},
     "output_type": "execute_result"
    }
   ],
   "source": [
    "df['gaji_binned'] = pd.cut(df['Gaji Orang Tua'], bins=bins, labels=kategori, include_lowest=True)\n",
    "df"
   ]
  }
 ],
 "metadata": {
  "kernelspec": {
   "display_name": "Python 3",
   "language": "python",
   "name": "python3"
  },
  "language_info": {
   "codemirror_mode": {
    "name": "ipython",
    "version": 3
   },
   "file_extension": ".py",
   "mimetype": "text/x-python",
   "name": "python",
   "nbconvert_exporter": "python",
   "pygments_lexer": "ipython3",
   "version": "3.10.6"
  },
  "orig_nbformat": 4
 },
 "nbformat": 4,
 "nbformat_minor": 2
}
