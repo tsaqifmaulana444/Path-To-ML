{
 "cells": [
  {
   "attachments": {},
   "cell_type": "markdown",
   "metadata": {},
   "source": [
    "### KNN\n",
    "Didalam KNN, data yang menjadi data uji akan diuji berdasarkan data terdekatnya, nilai dari data terdekat(K) ditentukan sendiri oleh penguji\n",
    "\n",
    "Eqcludilian distance adalah cara yang digunakan untuk mengatur seberapa jauh jarak data uji dan data latih, mayoritas data latih yang jaraknya dekat dengan data uji akan dijadikan sebagai hasil dari pengujian"
   ]
  },
  {
   "attachments": {},
   "cell_type": "markdown",
   "metadata": {},
   "source": [
    "### Pseudo KNN\n",
    "Pseudo KNN tidak berbeda jauh dari KNN, bedanya didalam knn data yang diambil adalah data yang terdekat dari data uji berdasarkan jumlah K yang diatur\n",
    "\n",
    "Sedangkan didalam Pseudo KNN data yang akan diambil adalah data yang terdekat dari data uji, namun tiap kategori data yang berbeda akan diambil berdasarkan nilai K yang diatur. Contoh ada 3 kategori data, kalau di KNN maka hanya mengambil 3 data tanpa memperhatikan kategori data yang akan diambil, sedangkan di dalam Pseudo KNN data yang diambil akan menjadi 9 data"
   ]
  }
 ],
 "metadata": {
  "language_info": {
   "name": "python"
  },
  "orig_nbformat": 4
 },
 "nbformat": 4,
 "nbformat_minor": 2
}
