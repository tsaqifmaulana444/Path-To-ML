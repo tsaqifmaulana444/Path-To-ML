{
 "cells": [
  {
   "attachments": {},
   "cell_type": "markdown",
   "metadata": {},
   "source": [
    "## Normalisasi Data Min Max"
   ]
  },
  {
   "attachments": {},
   "cell_type": "markdown",
   "metadata": {},
   "source": [
    "##### Normalisasi dilakukan ketika ada kolom numerik satu dengan kolom numerik yang lainnya memiliki rentan nilai yang jauh, contoh [jumlah_kunjungan = 10, total_belanja = 2.000.000], agar mesin dapan belajar lebih baik maka dilakukanlah normalisasi"
   ]
  },
  {
   "cell_type": "code",
   "execution_count": 1,
   "metadata": {},
   "outputs": [],
   "source": [
    "import pandas as pd\n",
    "from sklearn.preprocessing import MinMaxScaler\n",
    "# preprocessing = kegiatan mempersiapkan dataset sebelum pemodelan"
   ]
  },
  {
   "cell_type": "code",
   "execution_count": 4,
   "metadata": {},
   "outputs": [
    {
     "data": {
      "text/html": [
       "<div>\n",
       "<style scoped>\n",
       "    .dataframe tbody tr th:only-of-type {\n",
       "        vertical-align: middle;\n",
       "    }\n",
       "\n",
       "    .dataframe tbody tr th {\n",
       "        vertical-align: top;\n",
       "    }\n",
       "\n",
       "    .dataframe thead th {\n",
       "        text-align: right;\n",
       "    }\n",
       "</style>\n",
       "<table border=\"1\" class=\"dataframe\">\n",
       "  <thead>\n",
       "    <tr style=\"text-align: right;\">\n",
       "      <th></th>\n",
       "      <th>Nama</th>\n",
       "      <th>Status Rumah</th>\n",
       "      <th>Gaji Orang Tua</th>\n",
       "      <th>Umur</th>\n",
       "    </tr>\n",
       "  </thead>\n",
       "  <tbody>\n",
       "    <tr>\n",
       "      <th>0</th>\n",
       "      <td>aldi taher</td>\n",
       "      <td>Kontrak</td>\n",
       "      <td>2100000</td>\n",
       "      <td>24</td>\n",
       "    </tr>\n",
       "    <tr>\n",
       "      <th>1</th>\n",
       "      <td>kekeyi</td>\n",
       "      <td>Milik</td>\n",
       "      <td>4000000</td>\n",
       "      <td>23</td>\n",
       "    </tr>\n",
       "    <tr>\n",
       "      <th>2</th>\n",
       "      <td>rangga sasana</td>\n",
       "      <td>Kontrak</td>\n",
       "      <td>1400000</td>\n",
       "      <td>21</td>\n",
       "    </tr>\n",
       "    <tr>\n",
       "      <th>3</th>\n",
       "      <td>vicky prasetyo</td>\n",
       "      <td>Kontrak</td>\n",
       "      <td>700000</td>\n",
       "      <td>28</td>\n",
       "    </tr>\n",
       "    <tr>\n",
       "      <th>4</th>\n",
       "      <td>Zuko</td>\n",
       "      <td>Milik</td>\n",
       "      <td>650000</td>\n",
       "      <td>27</td>\n",
       "    </tr>\n",
       "    <tr>\n",
       "      <th>5</th>\n",
       "      <td>dyrga</td>\n",
       "      <td>Kontrak</td>\n",
       "      <td>450000</td>\n",
       "      <td>22</td>\n",
       "    </tr>\n",
       "  </tbody>\n",
       "</table>\n",
       "</div>"
      ],
      "text/plain": [
       "             Nama Status Rumah  Gaji Orang Tua  Umur\n",
       "0      aldi taher      Kontrak         2100000    24\n",
       "1          kekeyi        Milik         4000000    23\n",
       "2   rangga sasana      Kontrak         1400000    21\n",
       "3  vicky prasetyo      Kontrak          700000    28\n",
       "4            Zuko        Milik          650000    27\n",
       "5           dyrga      Kontrak          450000    22"
      ]
     },
     "execution_count": 4,
     "metadata": {},
     "output_type": "execute_result"
    }
   ],
   "source": [
    "df = pd.read_csv('datasetgaji2.csv')\n",
    "df.head(10)"
   ]
  },
  {
   "cell_type": "code",
   "execution_count": 8,
   "metadata": {},
   "outputs": [
    {
     "data": {
      "text/plain": [
       "array([[0.46478873, 0.42857143],\n",
       "       [1.        , 0.28571429],\n",
       "       [0.26760563, 0.        ],\n",
       "       [0.07042254, 1.        ],\n",
       "       [0.05633803, 0.85714286],\n",
       "       [0.        , 0.14285714]])"
      ]
     },
     "execution_count": 8,
     "metadata": {},
     "output_type": "execute_result"
    }
   ],
   "source": [
    "scaler = MinMaxScaler()\n",
    "scaled = scaler.fit_transform(df[['Gaji Orang Tua', 'Umur']])\n",
    "scaled"
   ]
  },
  {
   "cell_type": "code",
   "execution_count": 10,
   "metadata": {},
   "outputs": [
    {
     "data": {
      "text/html": [
       "<div>\n",
       "<style scoped>\n",
       "    .dataframe tbody tr th:only-of-type {\n",
       "        vertical-align: middle;\n",
       "    }\n",
       "\n",
       "    .dataframe tbody tr th {\n",
       "        vertical-align: top;\n",
       "    }\n",
       "\n",
       "    .dataframe thead th {\n",
       "        text-align: right;\n",
       "    }\n",
       "</style>\n",
       "<table border=\"1\" class=\"dataframe\">\n",
       "  <thead>\n",
       "    <tr style=\"text-align: right;\">\n",
       "      <th></th>\n",
       "      <th>Nama</th>\n",
       "      <th>Status Rumah</th>\n",
       "      <th>Gaji Orang Tua</th>\n",
       "      <th>Umur</th>\n",
       "      <th>Scaled Gaji Orang Tua</th>\n",
       "      <th>Scaled Umur</th>\n",
       "    </tr>\n",
       "  </thead>\n",
       "  <tbody>\n",
       "    <tr>\n",
       "      <th>0</th>\n",
       "      <td>aldi taher</td>\n",
       "      <td>Kontrak</td>\n",
       "      <td>2100000</td>\n",
       "      <td>24</td>\n",
       "      <td>0.464789</td>\n",
       "      <td>0.428571</td>\n",
       "    </tr>\n",
       "    <tr>\n",
       "      <th>1</th>\n",
       "      <td>kekeyi</td>\n",
       "      <td>Milik</td>\n",
       "      <td>4000000</td>\n",
       "      <td>23</td>\n",
       "      <td>1.000000</td>\n",
       "      <td>0.285714</td>\n",
       "    </tr>\n",
       "    <tr>\n",
       "      <th>2</th>\n",
       "      <td>rangga sasana</td>\n",
       "      <td>Kontrak</td>\n",
       "      <td>1400000</td>\n",
       "      <td>21</td>\n",
       "      <td>0.267606</td>\n",
       "      <td>0.000000</td>\n",
       "    </tr>\n",
       "    <tr>\n",
       "      <th>3</th>\n",
       "      <td>vicky prasetyo</td>\n",
       "      <td>Kontrak</td>\n",
       "      <td>700000</td>\n",
       "      <td>28</td>\n",
       "      <td>0.070423</td>\n",
       "      <td>1.000000</td>\n",
       "    </tr>\n",
       "    <tr>\n",
       "      <th>4</th>\n",
       "      <td>Zuko</td>\n",
       "      <td>Milik</td>\n",
       "      <td>650000</td>\n",
       "      <td>27</td>\n",
       "      <td>0.056338</td>\n",
       "      <td>0.857143</td>\n",
       "    </tr>\n",
       "    <tr>\n",
       "      <th>5</th>\n",
       "      <td>dyrga</td>\n",
       "      <td>Kontrak</td>\n",
       "      <td>450000</td>\n",
       "      <td>22</td>\n",
       "      <td>0.000000</td>\n",
       "      <td>0.142857</td>\n",
       "    </tr>\n",
       "  </tbody>\n",
       "</table>\n",
       "</div>"
      ],
      "text/plain": [
       "             Nama Status Rumah  Gaji Orang Tua  Umur  Scaled Gaji Orang Tua  \\\n",
       "0      aldi taher      Kontrak         2100000    24               0.464789   \n",
       "1          kekeyi        Milik         4000000    23               1.000000   \n",
       "2   rangga sasana      Kontrak         1400000    21               0.267606   \n",
       "3  vicky prasetyo      Kontrak          700000    28               0.070423   \n",
       "4            Zuko        Milik          650000    27               0.056338   \n",
       "5           dyrga      Kontrak          450000    22               0.000000   \n",
       "\n",
       "   Scaled Umur  \n",
       "0     0.428571  \n",
       "1     0.285714  \n",
       "2     0.000000  \n",
       "3     1.000000  \n",
       "4     0.857143  \n",
       "5     0.142857  "
      ]
     },
     "execution_count": 10,
     "metadata": {},
     "output_type": "execute_result"
    }
   ],
   "source": [
    "scaled_df = pd.concat([df, pd.DataFrame(scaled, columns=['Scaled Minmax Gaji Orang Tua', 'Scaled Minmax Umur'])], axis=1)\n",
    "scaled_df"
   ]
  },
  {
   "attachments": {
    "image.png": {
     "image/png": "[encoded data removed]"
    }
   },
   "cell_type": "markdown",
   "metadata": {},
   "source": [
    "![image.png](attachment:image.png)\n",
    "\n",
    "Rumus min max scalling"
   ]
  }
 ],
 "metadata": {
  "kernelspec": {
   "display_name": "Python 3",
   "language": "python",
   "name": "python3"
  },
  "language_info": {
   "codemirror_mode": {
    "name": "ipython",
    "version": 3
   },
   "file_extension": ".py",
   "mimetype": "text/x-python",
   "name": "python",
   "nbconvert_exporter": "python",
   "pygments_lexer": "ipython3",
   "version": "3.10.6"
  },
  "orig_nbformat": 4
 },
 "nbformat": 4,
 "nbformat_minor": 2
}
